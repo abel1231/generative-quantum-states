{
 "cells": [
  {
   "cell_type": "code",
   "execution_count": 1,
   "metadata": {},
   "outputs": [
    {
     "name": "stderr",
     "output_type": "stream",
     "text": [
      "/home_new/tangyehui/miniconda3/envs/gqs/lib/python3.9/site-packages/tqdm/auto.py:21: TqdmWarning: IProgress not found. Please update jupyter and ipywidgets. See https://ipywidgets.readthedocs.io/en/stable/user_install.html\n",
      "  from .autonotebook import tqdm as notebook_tqdm\n"
     ]
    }
   ],
   "source": [
    "import itertools as it\n",
    "from matplotlib import gridspec\n",
    "import matplotlib.pyplot as plt\n",
    "import networkx as nx\n",
    "import numpy as np\n",
    "import pennylane as qml\n",
    "import qutip\n",
    "import scipy as sp\n",
    "from tqdm.auto import tqdm\n",
    "import pandas as pd"
   ]
  },
  {
   "cell_type": "code",
   "execution_count": 2,
   "metadata": {},
   "outputs": [],
   "source": [
    "def load_coupling_matrix(path):\n",
    "    coupling_strength = pd.read_csv(path, header=None).to_numpy().reshape(-1)\n",
    "    rows = 1\n",
    "    cols = len(coupling_strength)+1\n",
    "\n",
    "    qubits = rows * cols\n",
    "    \n",
    "    # Create a 2D Lattice\n",
    "    edges = [\n",
    "        (si, sj) for (si, sj) in it.combinations(range(qubits), 2)\n",
    "        if ((sj % cols > 0) and sj - si == 1) or sj - si == cols\n",
    "    ]\n",
    "    \n",
    "    # sample edge weights uniformly at random from [0, 2]\n",
    "    edge_weights = coupling_strength\n",
    "\n",
    "    coupling_matrix = np.zeros((qubits, qubits))\n",
    "    for (i, j), w in zip(edges, edge_weights):\n",
    "        coupling_matrix[i, j] = coupling_matrix[j, i] = w\n",
    "        \n",
    "    return coupling_matrix"
   ]
  },
  {
   "cell_type": "code",
   "execution_count": 3,
   "metadata": {},
   "outputs": [
    {
     "data": {
      "text/plain": [
       "array([[0, 5, 4, 1, 5, 2, 3, 0, 5, 4],\n",
       "       [2, 3, 4, 3, 0, 1, 3, 4, 1, 4],\n",
       "       [2, 3, 3, 2, 3, 2, 3, 4, 2, 2],\n",
       "       [4, 5, 4, 0, 4, 5, 1, 2, 4, 5],\n",
       "       [2, 1, 4, 1, 4, 3, 4, 5, 0, 2]])"
      ]
     },
     "execution_count": 3,
     "metadata": {},
     "output_type": "execute_result"
    }
   ],
   "source": [
    "# define the system size and lattice geometry\n",
    "rows, cols = 1, 10\n",
    "wires = rows * cols\n",
    "\n",
    "# sample a coupling matrix\n",
    "path = '/mnt/nas/home/tangyehui/src/DiffuSeq/data/N_10_NM_1000_S_20/J/J_1.csv'\n",
    "J = load_coupling_matrix(path)\n",
    "results = pd.read_csv('/mnt/nas/home/tangyehui/src/DiffuSeq/generation_outputs/diffuseq_qqp_h128_lr0.0001_t2000_sqrt_lossaware_seed102_test-qqp20240516-18:16:48/ema_0.9999_050000.pt.samples/seed123_step0.txt', header=None).to_numpy(dtype=int).reshape(20*50000,10)\n",
    "results = results[:50000]\n",
    "results[:5]"
   ]
  },
  {
   "cell_type": "code",
   "execution_count": 4,
   "metadata": {},
   "outputs": [
    {
     "data": {
      "image/png": "[encoded data removed]",
      "text/plain": [
       "<Figure size 666.667x66.6667 with 1 Axes>"
      ]
     },
     "metadata": {},
     "output_type": "display_data"
    }
   ],
   "source": [
    "# create graph object\n",
    "graph = nx.from_numpy_array(np.matrix(J), create_using=nx.DiGraph)\n",
    "graph = nx.relabel_nodes(graph, {i: i + 1 for i in graph.nodes})\n",
    "pos = {i: ((i-1) % cols, -((i-1) // cols)) for i in graph.nodes()}\n",
    "\n",
    "# make edge widths proportional to edge weight\n",
    "edge_widths = [\n",
    "    (x + 1.5) ** 2 for x in list(nx.get_edge_attributes(graph, \"weight\").values())\n",
    "]\n",
    "\n",
    "# extract edge weights for colouring\n",
    "edges, weights = zip(*nx.get_edge_attributes(graph,'weight').items())\n",
    "\n",
    "plt.figure(figsize=(cols / 1.5, rows / 1.5))\n",
    "nx.draw(\n",
    "    graph, pos, node_color=\"white\", with_labels=True, font_color=\"black\", edge_cmap=plt.cm.Blues,\n",
    "    node_size=400, width=edge_widths, horizontalalignment='center', edgecolors=\"black\", edgelist=edges, \n",
    "    edge_color=weights, arrows=False, verticalalignment='center_baseline', font_size=12\n",
    ")\n",
    "plt.title('Coupling Graph', fontsize=18)\n",
    "plt.show()"
   ]
  },
  {
   "cell_type": "code",
   "execution_count": 5,
   "metadata": {},
   "outputs": [],
   "source": [
    "def build_hamiltonian(coupling_matrix):\n",
    "    coeffs, ops = [], []\n",
    "    ns = coupling_matrix.shape[0]\n",
    "\n",
    "    for i, j in it.combinations(range(ns), r=2):\n",
    "        coeff = coupling_matrix[i, j]\n",
    "        if coeff:\n",
    "            for op in [qml.PauliX, qml.PauliY, qml.PauliZ]:\n",
    "                coeffs.append(coeff)\n",
    "                ops.append(op(i) @ op(j))\n",
    "\n",
    "    return qml.Hamiltonian(coeffs, ops)"
   ]
  },
  {
   "cell_type": "code",
   "execution_count": 6,
   "metadata": {},
   "outputs": [
    {
     "name": "stderr",
     "output_type": "stream",
     "text": [
      "/home_new/tangyehui/miniconda3/envs/gqs/lib/python3.9/site-packages/pennylane/utils.py:67: UserWarning: The method sparse_hamiltonian is deprecated. Please use the method sparse_matrix of the Hamiltonian operator instead.\n",
      "  warnings.warn(\n"
     ]
    },
    {
     "data": {
      "text/plain": [
       "(array([-23.08672018]),\n",
       " array([[-2.40273769e-17-5.54127922e-20j],\n",
       "        [ 2.09081184e-17+2.63604688e-17j],\n",
       "        [ 2.98672598e-17+2.08292064e-17j],\n",
       "        ...,\n",
       "        [-5.77213669e-18+9.67573411e-18j],\n",
       "        [-1.31435439e-18+1.61627260e-17j],\n",
       "        [-2.72994201e-17-1.35340063e-17j]]))"
      ]
     },
     "execution_count": 6,
     "metadata": {},
     "output_type": "execute_result"
    }
   ],
   "source": [
    "# build sparse hamiltonian\n",
    "H = build_hamiltonian(J)\n",
    "H_sparse = qml.utils.sparse_hamiltonian(H)\n",
    "\n",
    "# diagonalize\n",
    "eigvals, eigvecs = sp.sparse.linalg.eigs(H_sparse, which='SR', k=1)\n",
    "eigvals = eigvals.real\n",
    "ground_state = eigvecs[:, np.argmin(eigvals)]\n",
    "eigvals, eigvecs"
   ]
  },
  {
   "cell_type": "code",
   "execution_count": 7,
   "metadata": {},
   "outputs": [],
   "source": [
    "# this circuit measures observables for the provided ground state\n",
    "@qml.qnode(device=qml.device('default.qubit', wires=wires, shots=None))\n",
    "def circ(observables):\n",
    "    qml.QubitStateVector(ground_state, wires=range(wires))\n",
    "    return [qml.expval(o) for o in observables]\n",
    "\n",
    "\n",
    "def compute_exact_correlation_matrix(ground_state, wires):\n",
    "    # setup observables for correlation function\n",
    "    def corr_function(i, j):\n",
    "        ops = []\n",
    "        \n",
    "        for op in [qml.PauliX, qml.PauliY, qml.PauliZ]:\n",
    "            if i != j:\n",
    "                ops.append(op(i) @ op(j))\n",
    "            else:\n",
    "                ops.append(qml.Identity(i))\n",
    "\n",
    "        return ops\n",
    "    \n",
    "    # indices for sites for which correlations will be computed\n",
    "    coupling_pairs = list(it.product(range(wires), repeat=2))\n",
    "    \n",
    "    # compute exact correlation matrix\n",
    "    correlation_matrix = np.zeros((wires, wires))\n",
    "    for idx, (i, j) in tqdm(enumerate(coupling_pairs), total=len(coupling_pairs)):\n",
    "        observable = corr_function(i, j)\n",
    "\n",
    "        if i == j:\n",
    "            correlation_matrix[i][j] = 1.0\n",
    "        else:\n",
    "            correlation_matrix[i][j] = (\n",
    "                    np.sum(np.array([circ(observables=[o]) for o in observable]).T) / 3\n",
    "            )\n",
    "            correlation_matrix[j][i] = correlation_matrix[i][j]\n",
    "\n",
    "    return correlation_matrix"
   ]
  },
  {
   "cell_type": "code",
   "execution_count": 8,
   "metadata": {},
   "outputs": [
    {
     "name": "stderr",
     "output_type": "stream",
     "text": [
      "100%|██████████| 100/100 [00:00<00:00, 142.21it/s]\n"
     ]
    }
   ],
   "source": [
    "exact_correlation_matrix = compute_exact_correlation_matrix(ground_state, wires)"
   ]
  },
  {
   "cell_type": "code",
   "execution_count": 9,
   "metadata": {},
   "outputs": [],
   "source": [
    "def plot_eval_matrix(coup_mat, eval_mat, title, cmap, true_mat=None, vmin=-1.0, vmax=1.0):\n",
    "    num_figures = 2 if true_mat is None else 3 \n",
    "    fig = plt.figure(figsize=(num_figures * cols + 2, rows))\n",
    "    gs = gridspec.GridSpec(rows, num_figures * cols, figure=fig)\n",
    "    \n",
    "    # plot coupling graph\n",
    "    ax = fig.add_subplot(gs[:, :cols])\n",
    "    graph = nx.from_numpy_array(np.matrix(coup_mat), create_using=nx.DiGraph)\n",
    "    graph = nx.relabel_nodes(graph, {i: i + 1 for i in graph.nodes})\n",
    "    pos = {i: ((i-1) % cols, -((i-1) // cols)) for i in graph.nodes()}\n",
    "    edge_widths = [(x + 1.5) ** 2 for x in list(nx.get_edge_attributes(graph, \"weight\").values())]\n",
    "    edges, weights = zip(*nx.get_edge_attributes(graph,'weight').items())\n",
    "    ax.set_title('Coupling Graph', fontsize=16)\n",
    "    ax.set_aspect('equal')\n",
    "\n",
    "    nx.draw(\n",
    "        graph, pos, node_color=\"white\", with_labels=True, font_color=\"black\", edge_cmap=plt.cm.Blues,\n",
    "        node_size=400, width=edge_widths, horizontalalignment='center', edgecolors=\"black\", edgelist=edges, edge_color=weights,\n",
    "        arrows=False, ax=ax, verticalalignment='center_baseline', font_size=10\n",
    "    )\n",
    "    \n",
    "    # plot correlation matrix\n",
    "    tick_locs = np.array([0] + [i for i in np.arange(5, rows * cols, 5) - 1])\n",
    "    tick_marks = tick_locs + 1\n",
    "    if true_mat is None:\n",
    "        ax = fig.add_subplot(gs[:, cols:])\n",
    "    else:\n",
    "        ax = fig.add_subplot(gs[:, cols:(2 * cols)])\n",
    "    im = ax.imshow(eval_mat, cmap=plt.cm.get_cmap(cmap), vmin=vmin, vmax=vmax)\n",
    "    ax = plt.gca()\n",
    "    ax.xaxis.tick_bottom()\n",
    "    ax.yaxis.tick_left()\n",
    "    ax.xaxis.set_ticks(tick_locs, tick_marks, fontsize=12)\n",
    "    ax.yaxis.set_ticks(tick_locs, tick_marks, fontsize=12)\n",
    "    ax.set_title(title, fontsize=16)\n",
    "    ax.set_aspect('equal')\n",
    "\n",
    "    for _, s in ax.spines.items():\n",
    "        s.set_color('white')\n",
    "    \n",
    "    if true_mat is not None:\n",
    "        ax = fig.add_subplot(gs[:, (2 * cols):])\n",
    "        im = ax.imshow(true_mat, cmap=plt.cm.get_cmap(cmap), vmin=vmin, vmax=vmax)\n",
    "        ax = plt.gca()\n",
    "        ax.xaxis.tick_bottom()\n",
    "        ax.yaxis.tick_left()\n",
    "        ax.xaxis.set_ticks(tick_locs, tick_marks, fontsize=12)\n",
    "        ax.yaxis.set_ticks(tick_locs, tick_marks, fontsize=12)\n",
    "        ax.set_title('Ground Truth', fontsize=16)\n",
    "        ax.set_aspect('equal')\n",
    "        \n",
    "        for _, s in ax.spines.items():\n",
    "            s.set_color('white')\n",
    "\n",
    "    # colorbar\n",
    "    bar = fig.colorbar(im, pad=0.01, ax=ax)\n",
    "    bar.set_label(r'$C_{ij}$', fontsize=12, rotation=0, labelpad=10)\n",
    "    bar.ax.tick_params(labelsize=12)\n",
    "\n",
    "    for _, s in bar.ax.spines.items():\n",
    "        s.set_color('white')"
   ]
  },
  {
   "cell_type": "code",
   "execution_count": 10,
   "metadata": {},
   "outputs": [
    {
     "name": "stderr",
     "output_type": "stream",
     "text": [
      "/tmp/ipykernel_23952/866085114.py:29: MatplotlibDeprecationWarning: The get_cmap function was deprecated in Matplotlib 3.7 and will be removed two minor releases later. Use ``matplotlib.colormaps[name]`` or ``matplotlib.colormaps.get_cmap(obj)`` instead.\n",
      "  im = ax.imshow(eval_mat, cmap=plt.cm.get_cmap(cmap), vmin=vmin, vmax=vmax)\n"
     ]
    },
    {
     "data": {
      "image/png": "[encoded data removed]",
      "text/plain": [
       "<Figure size 2200x100 with 3 Axes>"
      ]
     },
     "metadata": {},
     "output_type": "display_data"
    }
   ],
   "source": [
    "plot_eval_matrix(J, exact_correlation_matrix, title='Correlation Function', cmap='RdBu')"
   ]
  },
  {
   "cell_type": "code",
   "execution_count": 11,
   "metadata": {},
   "outputs": [
    {
     "name": "stderr",
     "output_type": "stream",
     "text": [
      "100%|██████████| 10/10 [00:00<00:00, 305.65it/s]\n"
     ]
    }
   ],
   "source": [
    "def compute_exact_entropy_matrix(ground_state, wires):\n",
    "    ground_state_qobj = qutip.Qobj(ground_state, dims=[[2] * wires, [1] * wires])\n",
    "\n",
    "    # compute entropies\n",
    "    entropies = np.zeros(shape=(wires, wires), dtype=float)\n",
    "    for i in tqdm(range(wires)):\n",
    "        ptrace_diag = ground_state_qobj.ptrace(sel=[i])\n",
    "        entropies[i, i] = -np.log(np.trace(ptrace_diag * ptrace_diag).real)\n",
    "\n",
    "        for j in range(i + 1, wires):\n",
    "            ptrace = ground_state_qobj.ptrace(sel=[i, j])\n",
    "            e = -np.log(np.trace(ptrace * ptrace).real)\n",
    "            entropies[i, j] = entropies[j, i] = e\n",
    "\n",
    "    return entropies\n",
    "exact_entropy_matrix = compute_exact_entropy_matrix(ground_state, wires)"
   ]
  },
  {
   "cell_type": "code",
   "execution_count": 13,
   "metadata": {},
   "outputs": [
    {
     "name": "stderr",
     "output_type": "stream",
     "text": [
      "/tmp/ipykernel_16773/866085114.py:29: MatplotlibDeprecationWarning: The get_cmap function was deprecated in Matplotlib 3.7 and will be removed two minor releases later. Use ``matplotlib.colormaps[name]`` or ``matplotlib.colormaps.get_cmap(obj)`` instead.\n",
      "  im = ax.imshow(eval_mat, cmap=plt.cm.get_cmap(cmap), vmin=vmin, vmax=vmax)\n"
     ]
    },
    {
     "data": {
      "image/png": "[encoded data removed]",
      "text/plain": [
       "<Figure size 2200x100 with 3 Axes>"
      ]
     },
     "metadata": {},
     "output_type": "display_data"
    }
   ],
   "source": [
    "plot_eval_matrix(J, exact_entropy_matrix, title='Subsystem Entanglement Entropies', cmap='Blues', vmin=0.0, vmax=None)"
   ]
  },
  {
   "cell_type": "code",
   "execution_count": 15,
   "metadata": {},
   "outputs": [],
   "source": [
    "recipes = results // 2\n",
    "bits = results - 2 * recipes\n"
   ]
  },
  {
   "cell_type": "code",
   "execution_count": 16,
   "metadata": {},
   "outputs": [],
   "source": [
    "# splits samples into bits (i.e., measurement outcomes) and recipes (measurement bases)\n",
    "# recipes = samples // 2\n",
    "# bits = samples - 2 * recipes\n",
    "\n",
    "# instantiate classical shadow\n",
    "shadow = qml.ClassicalShadow(bits=bits, recipes=recipes)"
   ]
  },
  {
   "cell_type": "code",
   "execution_count": 17,
   "metadata": {},
   "outputs": [],
   "source": [
    "from jax import jit\n",
    "import jax.numpy as jnp\n",
    "\n",
    "from heisenberg_tutorial.transformer import initialize, preprocess_coupling_matrix"
   ]
  },
  {
   "cell_type": "code",
   "execution_count": 18,
   "metadata": {},
   "outputs": [],
   "source": [
    "@jit\n",
    "def _jax_compute_size_one_entropies(x):\n",
    "    return -jnp.log(jnp.einsum('timl,silm->i', x, x))\n",
    "\n",
    "@jit\n",
    "def _jax_compute_size_two_entropies(x):\n",
    "    return -jnp.log(jnp.einsum('tilm,siml,tjrk,sjkr->ij', x, x, x, x))\n",
    "\n",
    "def compute_entropies_from_shadow(shadow):\n",
    "    \"\"\"\n",
    "    compute second-order Rényi entanglement entropies for all subsystems of size at most two, using the classical shadow\n",
    "    protocol\n",
    "    \"\"\"\n",
    "    local_snapshots = shadow.local_snapshots()\n",
    "    shadow_size = shadow.snapshots\n",
    "\n",
    "    # compute size two entropies\n",
    "    entropies = np.array(_jax_compute_size_two_entropies(local_snapshots) + 2 * np.log(shadow_size))\n",
    "\n",
    "    # compute size one entropies\n",
    "    entropies_size_one = np.array(_jax_compute_size_one_entropies(local_snapshots) + 2 * np.log(shadow_size))\n",
    "    np.fill_diagonal(entropies, entropies_size_one)\n",
    "\n",
    "    return entropies.real"
   ]
  },
  {
   "cell_type": "code",
   "execution_count": 19,
   "metadata": {},
   "outputs": [],
   "source": [
    "def compute_correlation_matrix_from_shadow(shadow):\n",
    "    wires = shadow.bits.shape[1]\n",
    "\n",
    "    qubit_pairs = list(it.combinations(range(wires), r=2))\n",
    "\n",
    "    correlations = np.zeros((wires, wires))\n",
    "    np.fill_diagonal(correlations, 1.0)\n",
    "\n",
    "    for idx, (i, j) in enumerate(qubit_pairs):\n",
    "        obs = qml.PauliX(i) @ qml.PauliX(j) + qml.PauliY(i) @ qml.PauliY(j) + qml.PauliZ(i) @ qml.PauliZ(j)\n",
    "        correlations[i, j] = correlations[j, i] = shadow.expval(H=obs, k=1) / 3\n",
    "\n",
    "    return correlations"
   ]
  },
  {
   "cell_type": "code",
   "execution_count": 24,
   "metadata": {},
   "outputs": [
    {
     "data": {
      "text/plain": [
       "(10, 10)"
      ]
     },
     "execution_count": 24,
     "metadata": {},
     "output_type": "execute_result"
    }
   ],
   "source": [
    "predicted_correlation_matrix = compute_correlation_matrix_from_shadow(shadow=shadow)"
   ]
  },
  {
   "cell_type": "code",
   "execution_count": 21,
   "metadata": {},
   "outputs": [
    {
     "name": "stderr",
     "output_type": "stream",
     "text": [
      "/tmp/ipykernel_16773/866085114.py:29: MatplotlibDeprecationWarning: The get_cmap function was deprecated in Matplotlib 3.7 and will be removed two minor releases later. Use ``matplotlib.colormaps[name]`` or ``matplotlib.colormaps.get_cmap(obj)`` instead.\n",
      "  im = ax.imshow(eval_mat, cmap=plt.cm.get_cmap(cmap), vmin=vmin, vmax=vmax)\n",
      "/tmp/ipykernel_16773/866085114.py:43: MatplotlibDeprecationWarning: The get_cmap function was deprecated in Matplotlib 3.7 and will be removed two minor releases later. Use ``matplotlib.colormaps[name]`` or ``matplotlib.colormaps.get_cmap(obj)`` instead.\n",
      "  im = ax.imshow(true_mat, cmap=plt.cm.get_cmap(cmap), vmin=vmin, vmax=vmax)\n"
     ]
    },
    {
     "data": {
      "image/png": "[encoded data removed]",
      "text/plain": [
       "<Figure size 3200x100 with 4 Axes>"
      ]
     },
     "metadata": {},
     "output_type": "display_data"
    }
   ],
   "source": [
    "plot_eval_matrix(\n",
    "    J, predicted_correlation_matrix, true_mat=exact_correlation_matrix, title='Model Prediction', cmap='RdBu'\n",
    ")"
   ]
  }
 ],
 "metadata": {
  "kernelspec": {
   "display_name": "gqs",
   "language": "python",
   "name": "python3"
  },
  "language_info": {
   "codemirror_mode": {
    "name": "ipython",
    "version": 3
   },
   "file_extension": ".py",
   "mimetype": "text/x-python",
   "name": "python",
   "nbconvert_exporter": "python",
   "pygments_lexer": "ipython3",
   "version": "3.9.19"
  }
 },
 "nbformat": 4,
 "nbformat_minor": 2
}
