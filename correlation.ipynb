{
 "cells": [
  {
   "cell_type": "code",
   "execution_count": 193,
   "metadata": {},
   "outputs": [],
   "source": [
    "import itertools as it\n",
    "from matplotlib import gridspec\n",
    "import matplotlib.pyplot as plt\n",
    "import networkx as nx\n",
    "import numpy as np\n",
    "import pennylane as qml\n",
    "import qutip\n",
    "import scipy as sp\n",
    "from tqdm.auto import tqdm\n",
    "import pandas as pd\n",
    "from os.path import join"
   ]
  },
  {
   "cell_type": "code",
   "execution_count": 194,
   "metadata": {},
   "outputs": [
    {
     "name": "stdout",
     "output_type": "stream",
     "text": [
      "############################## \n",
      "Loading dataset ppt from /mnt/nas2/home/tangyehui/src/DiffuSeq/data/N_10_NM_1000_S_20...\n",
      "### Total number of samples: 20\n",
      "### The dimension of conditions: 9\n",
      "### The dimension of measurements: 10\n",
      "### Data samples...\n",
      " [[1.82 0.98 1.3  0.16 1.87 1.56 1.31 1.68 0.47]\n",
      " [0.36 1.53 0.18 1.6  1.54 0.17 0.41 0.06 0.17]] \n",
      " [[5 3 4 5 0 5 3 0 4 2]\n",
      " [5 2 5 0 1 5 1 0 5 4]]\n"
     ]
    }
   ],
   "source": [
    "from read_data import load_data\n",
    "import argparse\n",
    "parser = argparse.ArgumentParser()\n",
    "parser.add_argument('--dataset', type=str, default='ppt', choices=['train', 'valid', 'test'], help='dataset split used to decode')\n",
    "parser.add_argument('--data_dir', type=str, default='/mnt/nas2/home/tangyehui/src/DiffuSeq/data/N_10_NM_1000_S_20', help='path to the folder of diffusion model')\n",
    "parser.add_argument('--seed', type=int, default=101, help='random seed')\n",
    "\n",
    "parser.add_argument('--num_measurements', type=int, default=1000, help='batch size')\n",
    "parser.add_argument('--num_qubits', type=int, default=10, help='batch size')\n",
    "parser.add_argument('--split', type=str, default='train', choices=['train', 'valid', 'test'], help='dataset split used to decode')\n",
    "parser.add_argument('--shots', type=int, default=1000, help='number of shots for generation')\n",
    "args, unknown = parser.parse_known_args()\n",
    "\n",
    "data = load_data(args, split=args.split, shots=args.shots)\n"
   ]
  },
  {
   "cell_type": "code",
   "execution_count": 386,
   "metadata": {},
   "outputs": [],
   "source": [
    "def load_coupling_matrix(coupling_strength):\n",
    "    rows = 1\n",
    "    cols = len(coupling_strength)+1\n",
    "\n",
    "    qubits = rows * cols\n",
    "    \n",
    "    # Create a 2D Lattice\n",
    "    edges = [\n",
    "        (si, sj) for (si, sj) in it.combinations(range(qubits), 2)\n",
    "        if ((sj % cols > 0) and sj - si == 1) or sj - si == cols\n",
    "    ]\n",
    "    \n",
    "    # sample edge weights uniformly at random from [0, 2]\n",
    "    edge_weights = coupling_strength\n",
    "\n",
    "    coupling_matrix = np.zeros((qubits, qubits))\n",
    "    for (i, j), w in zip(edges, edge_weights):\n",
    "        coupling_matrix[i, j] = coupling_matrix[j, i] = w\n",
    "        \n",
    "    return coupling_matrix\n",
    "\n",
    "# define the system size and lattice geometry\n",
    "rows, cols = 1, 10\n",
    "wires = rows * cols\n",
    "\n",
    "# sample a coupling matrix\n",
    "J_list = [load_coupling_matrix(J) for J in data['conditions']]\n",
    "samples = pd.read_csv('generation_outputs/results/conditional_heisenberg_N10/model/ns1000/iter50000_lr0.001_wd0_bs512_dropout0.0_lrschedulewarmup_cosine20240518-014155/checkpoints/checkpoint_50000.pth.tar/samples_all.txt'\n",
    "    , header=None).to_numpy(dtype=int).reshape(-1, 50000, 10)"
   ]
  },
  {
   "cell_type": "code",
   "execution_count": 387,
   "metadata": {},
   "outputs": [
    {
     "name": "stderr",
     "output_type": "stream",
     "text": [
      "/home_new/tangyehui/miniconda3/envs/gqs/lib/python3.9/site-packages/pennylane/utils.py:67: UserWarning: The method sparse_hamiltonian is deprecated. Please use the method sparse_matrix of the Hamiltonian operator instead.\n",
      "  warnings.warn(\n",
      "100%|██████████| 20/20 [00:00<00:00, 30.77it/s]\n"
     ]
    }
   ],
   "source": [
    "def build_hamiltonian(coupling_matrix):\n",
    "    coeffs, ops = [], []\n",
    "    ns = coupling_matrix.shape[0]\n",
    "\n",
    "    for i, j in it.combinations(range(ns), r=2):\n",
    "        coeff = coupling_matrix[i, j]\n",
    "        if coeff:\n",
    "            for op in [qml.PauliX, qml.PauliY, qml.PauliZ]:\n",
    "                coeffs.append(coeff)\n",
    "                ops.append(op(i) @ op(j))\n",
    "\n",
    "    return qml.Hamiltonian(coeffs, ops)\n",
    "\n",
    "# build sparse hamiltonian\n",
    "H_list = [build_hamiltonian(J) for J in J_list]\n",
    "H_sparse_list = [qml.utils.sparse_hamiltonian(H) for H in H_list]\n",
    "\n",
    "# diagonalize\n",
    "eigvals_list, eigvecs_list = [], []\n",
    "ground_states_list = []\n",
    "for H_sparse in tqdm(H_sparse_list):\n",
    "    eigvals, eigvecs = sp.sparse.linalg.eigs(H_sparse, which='SR', k=1)\n",
    "    eigvals = eigvals.real\n",
    "    ground_state = eigvecs[:, np.argmin(eigvals)]\n",
    "    eigvals_list.append(eigvals)\n",
    "    eigvecs_list.append(eigvecs)\n",
    "    ground_states_list.append(ground_state)"
   ]
  },
  {
   "cell_type": "code",
   "execution_count": 388,
   "metadata": {},
   "outputs": [
    {
     "name": "stderr",
     "output_type": "stream",
     "text": [
      "  0%|          | 0/100 [00:00<?, ?it/s]"
     ]
    },
    {
     "name": "stderr",
     "output_type": "stream",
     "text": [
      "100%|██████████| 100/100 [00:00<00:00, 119.78it/s]\n",
      "100%|██████████| 100/100 [00:00<00:00, 146.44it/s]\n",
      "100%|██████████| 100/100 [00:00<00:00, 145.79it/s]\n",
      "100%|██████████| 100/100 [00:00<00:00, 146.61it/s]\n",
      "100%|██████████| 100/100 [00:00<00:00, 145.82it/s]\n",
      "100%|██████████| 100/100 [00:00<00:00, 150.47it/s]\n",
      "100%|██████████| 100/100 [00:00<00:00, 150.98it/s]\n",
      "100%|██████████| 100/100 [00:00<00:00, 150.45it/s]\n",
      "100%|██████████| 100/100 [00:00<00:00, 150.46it/s]\n",
      "100%|██████████| 100/100 [00:00<00:00, 150.91it/s]\n",
      "100%|██████████| 100/100 [00:00<00:00, 150.64it/s]\n",
      "100%|██████████| 100/100 [00:00<00:00, 150.82it/s]\n",
      "100%|██████████| 100/100 [00:00<00:00, 151.63it/s]\n",
      "100%|██████████| 100/100 [00:00<00:00, 151.57it/s]\n",
      "100%|██████████| 100/100 [00:00<00:00, 150.81it/s]\n",
      "100%|██████████| 100/100 [00:00<00:00, 151.58it/s]\n",
      "100%|██████████| 100/100 [00:00<00:00, 150.65it/s]\n",
      "100%|██████████| 100/100 [00:00<00:00, 150.57it/s]\n",
      "100%|██████████| 100/100 [00:00<00:00, 150.52it/s]\n",
      "100%|██████████| 100/100 [00:00<00:00, 150.47it/s]\n"
     ]
    }
   ],
   "source": [
    "# this circuit measures observables for the provided ground state\n",
    "@qml.qnode(device=qml.device('default.qubit', wires=wires, shots=None))\n",
    "def circ(observables):\n",
    "    qml.QubitStateVector(ground_state, wires=range(wires))\n",
    "    return [qml.expval(o) for o in observables]\n",
    "\n",
    "\n",
    "def compute_exact_correlation_matrix(ground_state, wires):\n",
    "    # setup observables for correlation function\n",
    "    def corr_function(i, j):\n",
    "        ops = []\n",
    "        \n",
    "        for op in [qml.PauliX, qml.PauliY, qml.PauliZ]:\n",
    "            if i != j:\n",
    "                ops.append(op(i) @ op(j))\n",
    "            else:\n",
    "                ops.append(qml.Identity(i))\n",
    "\n",
    "        return ops\n",
    "    \n",
    "    # indices for sites for which correlations will be computed\n",
    "    coupling_pairs = list(it.product(range(wires), repeat=2))\n",
    "    \n",
    "    # compute exact correlation matrix\n",
    "    correlation_matrix = np.zeros((wires, wires))\n",
    "    for idx, (i, j) in tqdm(enumerate(coupling_pairs), total=len(coupling_pairs)):\n",
    "        observable = corr_function(i, j)\n",
    "\n",
    "        if i == j:\n",
    "            correlation_matrix[i][j] = 1.0\n",
    "        else:\n",
    "            correlation_matrix[i][j] = (\n",
    "                    np.sum(np.array([circ(observables=[o]) for o in observable]).T) / 3\n",
    "            )\n",
    "            correlation_matrix[j][i] = correlation_matrix[i][j]\n",
    "\n",
    "    return correlation_matrix\n",
    "\n",
    "exact_correlation_matrix_list = [compute_exact_correlation_matrix(ground_state, wires) for ground_state in ground_states_list]"
   ]
  },
  {
   "cell_type": "code",
   "execution_count": 389,
   "metadata": {},
   "outputs": [
    {
     "name": "stderr",
     "output_type": "stream",
     "text": [
      "100%|██████████| 10/10 [00:00<00:00, 516.52it/s]\n",
      "100%|██████████| 10/10 [00:00<00:00, 533.55it/s]\n",
      "100%|██████████| 10/10 [00:00<00:00, 444.99it/s]\n",
      "100%|██████████| 10/10 [00:00<00:00, 451.67it/s]\n",
      "100%|██████████| 10/10 [00:00<00:00, 472.04it/s]\n",
      "100%|██████████| 10/10 [00:00<00:00, 536.14it/s]\n",
      "100%|██████████| 10/10 [00:00<00:00, 535.38it/s]\n",
      "100%|██████████| 10/10 [00:00<00:00, 545.69it/s]\n",
      "100%|██████████| 10/10 [00:00<00:00, 461.60it/s]\n",
      "100%|██████████| 10/10 [00:00<00:00, 545.03it/s]\n",
      "100%|██████████| 10/10 [00:00<00:00, 540.57it/s]\n",
      "100%|██████████| 10/10 [00:00<00:00, 548.28it/s]\n",
      "100%|██████████| 10/10 [00:00<00:00, 461.58it/s]\n",
      "100%|██████████| 10/10 [00:00<00:00, 545.57it/s]\n",
      "100%|██████████| 10/10 [00:00<00:00, 541.65it/s]\n",
      "100%|██████████| 10/10 [00:00<00:00, 405.28it/s]\n",
      "100%|██████████| 10/10 [00:00<00:00, 545.18it/s]\n",
      "100%|██████████| 10/10 [00:00<00:00, 547.48it/s]\n",
      "100%|██████████| 10/10 [00:00<00:00, 378.96it/s]\n",
      "100%|██████████| 10/10 [00:00<00:00, 430.60it/s]\n"
     ]
    }
   ],
   "source": [
    "def compute_exact_entropy_matrix(ground_state, wires):\n",
    "    ground_state_qobj = qutip.Qobj(ground_state, dims=[[2] * wires, [1] * wires])\n",
    "\n",
    "    # compute entropies\n",
    "    entropies = np.zeros(shape=(wires, wires), dtype=float)\n",
    "    for i in tqdm(range(wires)):\n",
    "        ptrace_diag = ground_state_qobj.ptrace(sel=[i])\n",
    "        entropies[i, i] = -np.log(np.trace(ptrace_diag * ptrace_diag).real)\n",
    "\n",
    "        for j in range(i + 1, wires):\n",
    "            ptrace = ground_state_qobj.ptrace(sel=[i, j])\n",
    "            e = -np.log(np.trace(ptrace * ptrace).real)\n",
    "            entropies[i, j] = entropies[j, i] = e\n",
    "\n",
    "    return entropies\n",
    "exact_entropy_matrix_list = [compute_exact_entropy_matrix(ground_state, wires) for ground_state in ground_states_list]"
   ]
  },
  {
   "cell_type": "code",
   "execution_count": 390,
   "metadata": {},
   "outputs": [],
   "source": [
    "from jax import jit\n",
    "import jax.numpy as jnp\n",
    "\n",
    "@jit\n",
    "def _jax_compute_size_one_entropies(x):\n",
    "    return -jnp.log(jnp.einsum('timl,silm->i', x, x))\n",
    "\n",
    "@jit\n",
    "def _jax_compute_size_two_entropies(x):\n",
    "    return -jnp.log(jnp.einsum('tilm,siml,tjrk,sjkr->ij', x, x, x, x))\n",
    "\n",
    "def compute_entropies_from_shadow(shadow):\n",
    "    \"\"\"\n",
    "    compute second-order Rényi entanglement entropies for all subsystems of size at most two, using the classical shadow\n",
    "    protocol\n",
    "    \"\"\"\n",
    "    local_snapshots = shadow.local_snapshots()\n",
    "    shadow_size = shadow.snapshots\n",
    "\n",
    "    # compute size two entropies\n",
    "    entropies = np.array(_jax_compute_size_two_entropies(local_snapshots) + 2 * np.log(shadow_size))\n",
    "\n",
    "    # compute size one entropies\n",
    "    entropies_size_one = np.array(_jax_compute_size_one_entropies(local_snapshots) + 2 * np.log(shadow_size))\n",
    "    np.fill_diagonal(entropies, entropies_size_one)\n",
    "\n",
    "    return entropies.real\n",
    "\n",
    "def compute_correlation_matrix_from_shadow(shadow):\n",
    "    wires = shadow.bits.shape[1]\n",
    "\n",
    "    qubit_pairs = list(it.combinations(range(wires), r=2))\n",
    "\n",
    "    correlations = np.zeros((wires, wires))\n",
    "    np.fill_diagonal(correlations, 1.0)\n",
    "\n",
    "    for idx, (i, j) in enumerate(qubit_pairs):\n",
    "        obs = qml.PauliX(i) @ qml.PauliX(j) + qml.PauliY(i) @ qml.PauliY(j) + qml.PauliZ(i) @ qml.PauliZ(j)\n",
    "        correlations[i, j] = correlations[j, i] = shadow.expval(H=obs, k=1) / 3\n",
    "\n",
    "    return correlations"
   ]
  },
  {
   "cell_type": "code",
   "execution_count": 421,
   "metadata": {},
   "outputs": [
    {
     "name": "stderr",
     "output_type": "stream",
     "text": [
      "100%|██████████| 20/20 [00:00<00:00, 20671.78it/s]\n"
     ]
    }
   ],
   "source": [
    "shots = 2**15\n",
    "_samples = samples[:, :shots, :]\n",
    "model_recipes_list = _samples // 2\n",
    "model_bits_list = _samples - 2 * model_recipes_list\n",
    "\n",
    "shadow_list = []\n",
    "for i in tqdm(range(len(model_recipes_list))):\n",
    "    shadow_list.append(qml.ClassicalShadow(bits=model_bits_list[i], recipes=model_recipes_list[i]))"
   ]
  },
  {
   "cell_type": "code",
   "execution_count": 422,
   "metadata": {},
   "outputs": [
    {
     "name": "stderr",
     "output_type": "stream",
     "text": [
      "100%|██████████| 20/20 [01:01<00:00,  3.07s/it]\n"
     ]
    }
   ],
   "source": [
    "predicted_correlation_matrix_list = [compute_correlation_matrix_from_shadow(shadow=shadow_list[i]) for i in tqdm(range(len(shadow_list)))]"
   ]
  },
  {
   "cell_type": "code",
   "execution_count": 423,
   "metadata": {},
   "outputs": [
    {
     "data": {
      "text/plain": [
       "0.19487802111329963"
      ]
     },
     "execution_count": 423,
     "metadata": {},
     "output_type": "execute_result"
    }
   ],
   "source": [
    "correlation_error = []\n",
    "for i in range(len(predicted_correlation_matrix_list)):\n",
    "    correlation_error.append((predicted_correlation_matrix_list[i] - exact_correlation_matrix_list[i])**2)\n",
    "correlation_error = np.array(correlation_error)\n",
    "correlation_error = np.mean(correlation_error)\n",
    "correlation_error = np.sqrt(correlation_error)\n",
    "correlation_error"
   ]
  }
 ],
 "metadata": {
  "kernelspec": {
   "display_name": "gqs",
   "language": "python",
   "name": "python3"
  },
  "language_info": {
   "codemirror_mode": {
    "name": "ipython",
    "version": 3
   },
   "file_extension": ".py",
   "mimetype": "text/x-python",
   "name": "python",
   "nbconvert_exporter": "python",
   "pygments_lexer": "ipython3",
   "version": "3.9.19"
  }
 },
 "nbformat": 4,
 "nbformat_minor": 2
}
